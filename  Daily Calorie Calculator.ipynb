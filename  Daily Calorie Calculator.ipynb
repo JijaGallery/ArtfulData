{
 "cells": [
  {
   "cell_type": "markdown",
   "id": "a054feea",
   "metadata": {},
   "source": [
    "## Daily Calorie Calculator Based on BMR:\n",
    "\n",
    "Presents a simple Python program for calculating daily calorie needs based on the Harris-Benedict equation.\n",
    "Explains the use of BMR and the multiplication of BMR by an activity factor to determine Total Daily Energy Expenditure (TDEE).\n",
    "Addresses gender-specific BMR calculations and provides an introduction to the concept of estimating daily caloric needs."
   ]
  },
  {
   "cell_type": "markdown",
   "id": "ae65bfa3",
   "metadata": {},
   "source": [
    "**This script does the following:**\n",
    "    \n",
    "- **Takes user input for weight and height and Age and gender .**\n",
    " - Uses the `input` function to prompt the user for weight and height in kilograms and Centmeters and Age in years and Gender(male/female.\n",
    "\n",
    "\n",
    "- **Calculates BMR using the provided formula.**\n",
    "  - The calculate_bmr function computes the Basal Metabolic Rate (BMR) using the Harris-Benedict equation, considering the user's weight, height, age, and gender.\n",
    "  \n",
    "BMR is calculated differently for males and females.\n",
    "\n",
    "- **Calculate TDEE : TDEE is total daily energy expenditure. **\n",
    "\n",
    "- **Visualizes the BMR category using a bar chart.**\n",
    "\n",
    "\n",
    "This script is designed to be interactive, providing users with an understanding of their Daily calories needs!"
   ]
  },
  {
   "cell_type": "markdown",
   "id": "d857a1f9",
   "metadata": {},
   "source": [
    "**Basal Metablic Rate formula:**\n",
    "\n",
    "- **Men: BMR = 88.362 + (13.397 x weight in kg) + (4.799 x height in cm) – (5.677 x age in years) **\n",
    "- **Women: BMR =447.593 + (9.247 x weight in kg) + (3.098 x height in cm) – (4.330 x age in years) ** \n"
   ]
  },
  {
   "cell_type": "code",
   "execution_count": 1,
   "id": "56e8fafb",
   "metadata": {},
   "outputs": [
    {
     "name": "stdout",
     "output_type": "stream",
     "text": [
      " Welcome to the daily calories calculatores!\n",
      "Enter your weight in kilograms: 60\n",
      "Enter your height in centimeters: 150\n",
      "Enter your age in years: 30\n",
      "Enter your gender (male/female): female\n",
      "\n",
      "Select your activity level:\n",
      "1. Sedentary (little or no exercise)\n",
      "2. Lightly active (light exercise/sports 1-3 days/week)\n",
      "3. Moderately active (moderate exercise/sports 3-5 days/week)\n",
      "4. Very active (hard exercise/sports 6-7 days a week)\n",
      "5. Extra active (very hard exercise/sports & physical job or 2x training)\n",
      "Enter the number correspondence to you3\n",
      "\n",
      "Your Total Daily Energy Expenditure (TDEE) is: 2072.68 calories.\n",
      "This is the estimated amount of calories you need to maintain your current weight.\n"
     ]
    }
   ],
   "source": [
    "# Daily Colories calculate \n",
    "\n",
    "def calculate_bmr(weight, height, age, gender):\n",
    "    if gender.lower() == 'male':\n",
    "        bmr = 88.362 + (13.397 * weight) + (4.799 * height) - (5.677 * age)\n",
    "    elif gender.lower() == 'female':\n",
    "        bmr = 447.593 + (9.247 * weight) + (3.098 * height) - (4.330 * age)\n",
    "    else:\n",
    "        print(\"Invalid gender input. Please enter 'male' or 'female'.\")\n",
    "        return None\n",
    "    return bmr\n",
    "              \n",
    "def caclude_tdee(bmr,activity_level):\n",
    "    activity_factors = {\n",
    "        'sedentary': 1.2,\n",
    "        'lightly active': 1.375,\n",
    "        'moderately active': 1.55,\n",
    "        'very active': 1.725,\n",
    "        'extra active': 1.9\n",
    "    }\n",
    "    if activity_level.lower() not in  activity_factors:\n",
    "        print(\"Invalid activity level input\")\n",
    "        return None\n",
    "              \n",
    "    tdee= bmr *activity_factors[activity_level.lower()]\n",
    "    return tdee\n",
    "\n",
    "\n",
    "# Main program\n",
    "print(\" Welcome to the daily calories calculatores!\")\n",
    "\n",
    "\n",
    "# User input \n",
    "weight = float(input(\"Enter your weight in kilograms: \"))\n",
    "height = float(input(\"Enter your height in centimeters: \"))\n",
    "age = int(input(\"Enter your age in years: \"))\n",
    "gender = input(\"Enter your gender (male/female): \")\n",
    "\n",
    "\n",
    "\n",
    "bmr= calculate_bmr(weight, height, age, gender)\n",
    "\n",
    "if bmr is not None:\n",
    "    print(\"\\nSelect your activity level:\")\n",
    "    print(\"1. Sedentary (little or no exercise)\")\n",
    "    print(\"2. Lightly active (light exercise/sports 1-3 days/week)\")\n",
    "    print(\"3. Moderately active (moderate exercise/sports 3-5 days/week)\")\n",
    "    print(\"4. Very active (hard exercise/sports 6-7 days a week)\")\n",
    "    print(\"5. Extra active (very hard exercise/sports & physical job or 2x training)\")\n",
    "\n",
    "    activty_level_choice=input(\"Enter the number correspondence to you\")\n",
    "    \n",
    "    activity_levels = {\n",
    "    '1': 'sedentary',\n",
    "    '2': 'lightly active',\n",
    "    '3': 'moderately active',\n",
    "    '4': 'very active',\n",
    "    '5': 'extra active'\n",
    "    }\n",
    "\n",
    "    if activty_level_choice in activity_levels:\n",
    "        activity_level=activity_levels[activty_level_choice]\n",
    "    \n",
    "#calculate TDEe\n",
    "\n",
    "        tdee= caclude_tdee(bmr,activity_level)\n",
    "\n",
    "\n",
    "#Print result or handle errors\n",
    "\n",
    "        if tdee is not None:\n",
    "            print(f\"\\nYour Total Daily Energy Expenditure (TDEE) is: {tdee:.2f} calories.\")\n",
    "            print(\"This is the estimated amount of calories you need to maintain your current weight.\")\n",
    "        else:\n",
    "            print(\"Error calculating TDEE.\")\n",
    "    else: \n",
    "        print(\"Invalid ctivity Level\")"
   ]
  },
  {
   "cell_type": "code",
   "execution_count": null,
   "id": "f16fbe50",
   "metadata": {},
   "outputs": [],
   "source": []
  },
  {
   "cell_type": "code",
   "execution_count": null,
   "id": "fbb8c1f4",
   "metadata": {},
   "outputs": [],
   "source": []
  }
 ],
 "metadata": {
  "kernelspec": {
   "display_name": "Python 3 (ipykernel)",
   "language": "python",
   "name": "python3"
  },
  "language_info": {
   "codemirror_mode": {
    "name": "ipython",
    "version": 3
   },
   "file_extension": ".py",
   "mimetype": "text/x-python",
   "name": "python",
   "nbconvert_exporter": "python",
   "pygments_lexer": "ipython3",
   "version": "3.11.4"
  }
 },
 "nbformat": 4,
 "nbformat_minor": 5
}
